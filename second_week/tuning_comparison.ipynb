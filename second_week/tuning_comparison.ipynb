{
 "cells": [
  {
   "cell_type": "code",
   "execution_count": 1,
   "metadata": {},
   "outputs": [
    {
     "name": "stderr",
     "output_type": "stream",
     "text": [
      "C:\\Users\\johnn\\AppData\\Local\\Temp\\ipykernel_12084\\2260649340.py:5: DeprecationWarning: `import kerastuner` is deprecated, please use `import keras_tuner`.\n",
      "  from kerastuner.tuners import BayesianOptimization\n"
     ]
    }
   ],
   "source": [
    "import pandas as pd\n",
    "import numpy as np\n",
    "import matplotlib.pyplot as plt\n",
    "import tensorflow as tf\n",
    "from kerastuner.tuners import BayesianOptimization\n",
    "from tensorflow.python.client import device_lib\n",
    "import sklearn \n",
    "from sklearn.model_selection import train_test_split\n"
   ]
  },
  {
   "attachments": {},
   "cell_type": "markdown",
   "metadata": {},
   "source": [
    "### load the MNIST dataset"
   ]
  },
  {
   "cell_type": "code",
   "execution_count": 2,
   "metadata": {},
   "outputs": [],
   "source": [
    "import tensorflow as tf\n",
    "from weight_tuning import WeightTuning\n",
    "\n",
    "\n",
    "# model\n",
    "model = tf.keras.models.Sequential([\n",
    "    tf.keras.layers.Flatten(input_shape=(28, 28)),\n",
    "    tf.keras.layers.Dense(8, activation='relu',kernel_initializer=tf.keras.initializers.RandomNormal(mean=0.0,stddev=0.1),\n",
    "                         kernel_regularizer=tf.keras.regularizers.l2(0.0001)),\n",
    "    tf.keras.layers.Dense(10, activation='softmax',kernel_initializer=tf.keras.initializers.RandomNormal(mean=0.0,stddev=0.1))\n",
    "])\n",
    "\n",
    "\n",
    "# load and preprocess dataset\n",
    "(x_train, y_train), (x_test, y_test) = tf.keras.datasets.mnist.load_data()\n",
    "x_train = x_train / 255.0\n",
    "x_test = x_test / 255.0\n",
    "y_train = tf.keras.utils.to_categorical(y_train, 10)\n",
    "y_test = tf.keras.utils.to_categorical(y_test, 10)\n",
    "\n"
   ]
  },
  {
   "attachments": {},
   "cell_type": "markdown",
   "metadata": {},
   "source": [
    "### weight tuning EB_LG "
   ]
  },
  {
   "cell_type": "code",
   "execution_count": 3,
   "metadata": {},
   "outputs": [
    {
     "name": "stderr",
     "output_type": "stream",
     "text": [
      "c:\\Users\\johnn\\anaconda3\\envs\\tf_2.3_py_3.7\\lib\\site-packages\\keras\\backend.py:5531: UserWarning: \"`categorical_crossentropy` received `from_logits=True`, but the `output` argument was produced by a Softmax activation and thus does not represent logits. Was this intended?\n",
      "  output, from_logits = _get_logits(\n"
     ]
    },
    {
     "name": "stdout",
     "output_type": "stream",
     "text": [
      "313/313 [==============================] - 2s 3ms/step - loss: 0.2844 - accuracy: 0.9217\n",
      "Test accuracy: 0.9217000007629395\n"
     ]
    }
   ],
   "source": [
    "# compile model\n",
    "model.compile(optimizer='SGD',loss='categorical_crossentropy',metrics=['accuracy'])\n",
    "\n",
    "# initialize weight tuning object\n",
    "weight_tuning = WeightTuning(learning_rate=0.01)\n",
    "\n",
    "# train model using weight tuning\n",
    "weight_tuning.update_weights_EB_LG(model, x_train, y_train, num_epochs=200, batch_size=64,category_threshold=50)\n",
    "\n",
    "# evaluate model on test data\n",
    "test_loss, test_acc = model.evaluate(x_test, y_test, verbose=1)\n",
    "\n",
    "print(f'Test accuracy: {test_acc}')\n"
   ]
  },
  {
   "attachments": {},
   "cell_type": "markdown",
   "metadata": {},
   "source": [
    "### weight tuning LG"
   ]
  },
  {
   "cell_type": "code",
   "execution_count": 4,
   "metadata": {},
   "outputs": [
    {
     "name": "stdout",
     "output_type": "stream",
     "text": [
      "313/313 [==============================] - 1s 2ms/step - loss: 0.2819 - accuracy: 0.9222\n",
      "Test accuracy: 0.9222000241279602\n"
     ]
    }
   ],
   "source": [
    "# compile model\n",
    "model.compile(optimizer='SGD',loss='categorical_crossentropy',metrics=['accuracy'])\n",
    "\n",
    "# initialize weight tuning object\n",
    "weight_tuning = WeightTuning(learning_rate=0.01)\n",
    "\n",
    "# train model using weight tuning\n",
    "weight_tuning.update_weights_LG(model, x_train, y_train, category_threshold=50)\n",
    "\n",
    "# evaluate model on test data\n",
    "test_loss, test_acc = model.evaluate(x_test, y_test, verbose=1)\n",
    "print(f'Test accuracy: {test_acc}')\n"
   ]
  },
  {
   "attachments": {},
   "cell_type": "markdown",
   "metadata": {},
   "source": [
    "### benchmark(weight tuning_EB)"
   ]
  },
  {
   "cell_type": "code",
   "execution_count": 5,
   "metadata": {},
   "outputs": [
    {
     "name": "stdout",
     "output_type": "stream",
     "text": [
      "313/313 [==============================] - 1s 2ms/step - loss: 0.2666 - accuracy: 0.9284\n",
      "Test accuracy: 0.9283999800682068\n"
     ]
    }
   ],
   "source": [
    "# compile model\n",
    "model.compile(optimizer='SGD',loss='categorical_crossentropy',metrics=['accuracy'])\n",
    "\n",
    "# initialize weight tuning object\n",
    "weight_tuning = WeightTuning(learning_rate=0.01)\n",
    "\n",
    "# train model using weight tuning\n",
    "weight_tuning.update_weights_EB(model, x_train, y_train,num_epochs=200,batch_size=64)\n",
    "\n",
    "# evaluate model on test data\n",
    "test_loss, test_acc = model.evaluate(x_test, y_test, verbose=1)\n",
    "print(f'Test accuracy: {test_acc}')\n"
   ]
  },
  {
   "attachments": {},
   "cell_type": "markdown",
   "metadata": {},
   "source": [
    "### weight tuning_LG_UA"
   ]
  },
  {
   "cell_type": "code",
   "execution_count": 22,
   "metadata": {},
   "outputs": [],
   "source": [
    "import weight_tuning"
   ]
  },
  {
   "cell_type": "code",
   "execution_count": 23,
   "metadata": {},
   "outputs": [
    {
     "ename": "UnboundLocalError",
     "evalue": "local variable 'prev_loss' referenced before assignment",
     "output_type": "error",
     "traceback": [
      "\u001b[1;31m---------------------------------------------------------------------------\u001b[0m",
      "\u001b[1;31mUnboundLocalError\u001b[0m                         Traceback (most recent call last)",
      "Cell \u001b[1;32mIn[23], line 8\u001b[0m\n\u001b[0;32m      5\u001b[0m weight_tuning \u001b[39m=\u001b[39m WeightTuning(learning_rate\u001b[39m=\u001b[39m\u001b[39m0.01\u001b[39m)\n\u001b[0;32m      7\u001b[0m \u001b[39m# train model using weight tuning\u001b[39;00m\n\u001b[1;32m----> 8\u001b[0m weight_tuning\u001b[39m.\u001b[39;49mupdate_weights_LG_UA(model, x_train, y_train,category_threshold\u001b[39m=\u001b[39;49m\u001b[39m50\u001b[39;49m,ua_threshold\u001b[39m=\u001b[39;49m\u001b[39m0.00001\u001b[39;49m)\n\u001b[0;32m     10\u001b[0m \u001b[39m# evaluate model on test data\u001b[39;00m\n\u001b[0;32m     11\u001b[0m test_loss, test_acc \u001b[39m=\u001b[39m model\u001b[39m.\u001b[39mevaluate(x_test, y_test, verbose\u001b[39m=\u001b[39m\u001b[39m1\u001b[39m)\n",
      "File \u001b[1;32mc:\\Users\\johnn\\Deep-LearningHW\\second_week\\weight_tuning.py:35\u001b[0m, in \u001b[0;36mWeightTuning.update_weights_LG_UA\u001b[1;34m(self, model, inputs, targets, category_threshold, ua_threshold)\u001b[0m\n\u001b[0;32m     32\u001b[0m     \u001b[39mreturn\u001b[39;00m\n\u001b[0;32m     34\u001b[0m \u001b[39m# Check if previous loss is greater than current loss\u001b[39;00m\n\u001b[1;32m---> 35\u001b[0m \u001b[39mif\u001b[39;00m prev_loss \u001b[39mis\u001b[39;00m \u001b[39mnot\u001b[39;00m \u001b[39mNone\u001b[39;00m \u001b[39mand\u001b[39;00m loss \u001b[39m>\u001b[39m\u001b[39m=\u001b[39m prev_loss:\n\u001b[0;32m     36\u001b[0m     \u001b[39mself\u001b[39m\u001b[39m.\u001b[39mlearning_rate \u001b[39m=\u001b[39m \u001b[39mself\u001b[39m\u001b[39m.\u001b[39mlearning_rate \u001b[39m*\u001b[39m \u001b[39m1.2\u001b[39m\n\u001b[0;32m     37\u001b[0m     \u001b[39mfor\u001b[39;00m i, w \u001b[39min\u001b[39;00m \u001b[39menumerate\u001b[39m(model\u001b[39m.\u001b[39mtrainable_variables):\n",
      "\u001b[1;31mUnboundLocalError\u001b[0m: local variable 'prev_loss' referenced before assignment"
     ]
    }
   ],
   "source": [
    "# compile model\n",
    "model.compile(optimizer='SGD',loss='categorical_crossentropy',metrics=['accuracy'])\n",
    "\n",
    "# initialize weight tuning object\n",
    "weight_tuning = WeightTuning(learning_rate=0.01)\n",
    "\n",
    "# train model using weight tuning\n",
    "weight_tuning.update_weights_LG_UA(model, x_train, y_train,category_threshold=50,ua_threshold=0.00001)\n",
    "\n",
    "# evaluate model on test data\n",
    "test_loss, test_acc = model.evaluate(x_test, y_test, verbose=1)\n",
    "print(f'Test accuracy: {test_acc}')"
   ]
  },
  {
   "attachments": {},
   "cell_type": "markdown",
   "metadata": {},
   "source": [
    "### weight tuning_EB_LG_UA"
   ]
  },
  {
   "cell_type": "code",
   "execution_count": 21,
   "metadata": {},
   "outputs": [
    {
     "name": "stdout",
     "output_type": "stream",
     "text": [
      "313/313 [==============================] - 1s 2ms/step - loss: 0.2653 - accuracy: 0.9290\n",
      "Test accuracy: 0.9290000200271606\n"
     ]
    }
   ],
   "source": [
    "# compile model\n",
    "model.compile(optimizer='SGD',loss='categorical_crossentropy',metrics=['accuracy'])\n",
    "\n",
    "# initialize weight tuning object\n",
    "weight_tuning = WeightTuning(learning_rate=0.01)\n",
    "\n",
    "# train model using weight tuning\n",
    "weight_tuning.update_weights_EB_LG_UA(model, x_train, y_train,num_epochs=200,batch_size=64,category_threshold=50,ua_threshold=0.00001)\n",
    "\n",
    "# evaluate model on test data\n",
    "test_loss, test_acc = model.evaluate(x_test, y_test, verbose=1)\n",
    "print(f'Test accuracy: {test_acc}')"
   ]
  },
  {
   "attachments": {},
   "cell_type": "markdown",
   "metadata": {},
   "source": [
    "### END"
   ]
  },
  {
   "cell_type": "code",
   "execution_count": null,
   "metadata": {},
   "outputs": [],
   "source": []
  }
 ],
 "metadata": {
  "kernelspec": {
   "display_name": "tf_2.3_py_3.7",
   "language": "python",
   "name": "python3"
  },
  "language_info": {
   "codemirror_mode": {
    "name": "ipython",
    "version": 3
   },
   "file_extension": ".py",
   "mimetype": "text/x-python",
   "name": "python",
   "nbconvert_exporter": "python",
   "pygments_lexer": "ipython3",
   "version": "3.9.16"
  },
  "orig_nbformat": 4,
  "vscode": {
   "interpreter": {
    "hash": "04ef98aeeb2e53462cc1fb615d21d9d2583ce764928302fcb73a14ea9aa6239f"
   }
  }
 },
 "nbformat": 4,
 "nbformat_minor": 2
}
