{
 "cells": [
  {
   "cell_type": "code",
   "execution_count": 1,
   "metadata": {},
   "outputs": [
    {
     "name": "stdout",
     "output_type": "stream",
     "text": [
      "TensorFlow version: 2.10.0\n"
     ]
    }
   ],
   "source": [
    "import tensorflow as tf\n",
    "import keras\n",
    "from keras.models import load_model\n",
    "from model_bulid import build_model"
   ]
  },
  {
   "attachments": {},
   "cell_type": "markdown",
   "metadata": {},
   "source": [
    "### load top 3 model"
   ]
  },
  {
   "cell_type": "code",
   "execution_count": 9,
   "metadata": {},
   "outputs": [],
   "source": [
    "model_1 = load_model('2_layer_top_NNmodel.tf')\n",
    "model_2 = load_model('2_layer_second_NNmodel.tf')\n",
    "model_3 = load_model('2_layer_third_NNmodel.tf')"
   ]
  },
  {
   "cell_type": "code",
   "execution_count": 8,
   "metadata": {},
   "outputs": [
    {
     "name": "stdout",
     "output_type": "stream",
     "text": [
      "Top model\n",
      "Model: \"my_model\"\n",
      "_________________________________________________________________\n",
      " Layer (type)                Output Shape              Param #   \n",
      "=================================================================\n",
      " flatten (Flatten)           multiple                  0         \n",
      "                                                                 \n",
      " dense (Dense)               multiple                  6280      \n",
      "                                                                 \n",
      " dense_1 (Dense)             multiple                  90        \n",
      "                                                                 \n",
      "=================================================================\n",
      "Total params: 6,370\n",
      "Trainable params: 6,370\n",
      "Non-trainable params: 0\n",
      "_________________________________________________________________\n"
     ]
    }
   ],
   "source": [
    "print('Top model')\n",
    "model_1.summary()"
   ]
  },
  {
   "cell_type": "code",
   "execution_count": 7,
   "metadata": {},
   "outputs": [
    {
     "name": "stdout",
     "output_type": "stream",
     "text": [
      "Second model\n",
      "Model: \"my_model\"\n",
      "_________________________________________________________________\n",
      " Layer (type)                Output Shape              Param #   \n",
      "=================================================================\n",
      " flatten (Flatten)           multiple                  0         \n",
      "                                                                 \n",
      " dense (Dense)               multiple                  4710      \n",
      "                                                                 \n",
      " dense_1 (Dense)             multiple                  70        \n",
      "                                                                 \n",
      "=================================================================\n",
      "Total params: 4,780\n",
      "Trainable params: 4,780\n",
      "Non-trainable params: 0\n",
      "_________________________________________________________________\n"
     ]
    }
   ],
   "source": [
    "print('Second model')\n",
    "model_2.summary()"
   ]
  },
  {
   "cell_type": "code",
   "execution_count": 6,
   "metadata": {},
   "outputs": [
    {
     "name": "stdout",
     "output_type": "stream",
     "text": [
      "third model\n",
      "Model: \"my_model\"\n",
      "_________________________________________________________________\n",
      " Layer (type)                Output Shape              Param #   \n",
      "=================================================================\n",
      " flatten (Flatten)           multiple                  0         \n",
      "                                                                 \n",
      " dense (Dense)               multiple                  8635      \n",
      "                                                                 \n",
      " dense_1 (Dense)             multiple                  120       \n",
      "                                                                 \n",
      "=================================================================\n",
      "Total params: 8,755\n",
      "Trainable params: 8,755\n",
      "Non-trainable params: 0\n",
      "_________________________________________________________________\n"
     ]
    }
   ],
   "source": [
    "print('Third model')\n",
    "model_3.summary()"
   ]
  },
  {
   "attachments": {},
   "cell_type": "markdown",
   "metadata": {},
   "source": [
    "### load data set"
   ]
  },
  {
   "cell_type": "code",
   "execution_count": 11,
   "metadata": {},
   "outputs": [],
   "source": [
    "(X_train, y_train), (X_test, y_test) = tf.keras.datasets.mnist.load_data()\n",
    "\n",
    "# Normalize the data\n",
    "X_train = X_train / 255.0\n",
    "X_test = X_test / 255.0\n",
    "\n",
    "# One-hot encode the target variable\n",
    "y_train = keras.utils.to_categorical(y_train)\n",
    "y_test = keras.utils.to_categorical(y_test)"
   ]
  },
  {
   "attachments": {},
   "cell_type": "markdown",
   "metadata": {},
   "source": [
    "### show performence"
   ]
  },
  {
   "cell_type": "code",
   "execution_count": 12,
   "metadata": {},
   "outputs": [
    {
     "name": "stdout",
     "output_type": "stream",
     "text": [
      "313/313 [==============================] - 6s 5ms/step - loss: 0.3107 - accuracy: 0.9240\n",
      "313/313 [==============================] - 2s 5ms/step - loss: 0.3842 - accuracy: 0.8952\n",
      "313/313 [==============================] - 2s 5ms/step - loss: 0.5452 - accuracy: 0.8645\n",
      "top model Test accuracy:0.9240000247955322\n",
      "top model loss : 0.31067758798599243\n",
      "\n",
      "\n",
      "second model Test accuracy:0.8952000141143799\n",
      "second model loss : 0.3842473030090332\n",
      "\n",
      "\n",
      "third model Test accuracy:0.8644999861717224\n",
      "third model loss : 0.545225977897644\n",
      "\n",
      "\n",
      "ensemble_mean：0.8945666750272115\n"
     ]
    }
   ],
   "source": [
    "top = model_1\n",
    "second = model_2\n",
    "third = model_3\n",
    "\n",
    "# Evaluate the model on the test set\n",
    "loss_top, accuracy_top =top.evaluate(X_test, y_test)\n",
    "loss_second, accuracy_second =second.evaluate(X_test, y_test)\n",
    "loss_third, accuracy_third =third.evaluate(X_test, y_test)\n",
    "print(f'top model Test accuracy:{accuracy_top}')\n",
    "print(f'top model loss : {loss_top}')\n",
    "print('\\n')\n",
    "print(f'second model Test accuracy:{accuracy_second}')\n",
    "print(f'second model loss : {loss_second}')\n",
    "print('\\n')\n",
    "print(f'third model Test accuracy:{accuracy_third}')\n",
    "print(f'third model loss : {loss_third}')\n",
    "print('\\n')\n",
    "ensemble_mean = (accuracy_top + accuracy_second + accuracy_third)/3\n",
    "print(f'ensemble_mean：{ensemble_mean}')"
   ]
  },
  {
   "attachments": {},
   "cell_type": "markdown",
   "metadata": {},
   "source": [
    "### End"
   ]
  }
 ],
 "metadata": {
  "kernelspec": {
   "display_name": "tf_2.3_py_3.7",
   "language": "python",
   "name": "python3"
  },
  "language_info": {
   "codemirror_mode": {
    "name": "ipython",
    "version": 3
   },
   "file_extension": ".py",
   "mimetype": "text/x-python",
   "name": "python",
   "nbconvert_exporter": "python",
   "pygments_lexer": "ipython3",
   "version": "3.9.16"
  },
  "orig_nbformat": 4
 },
 "nbformat": 4,
 "nbformat_minor": 2
}
