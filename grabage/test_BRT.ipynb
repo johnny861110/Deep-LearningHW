{
 "cells": [
  {
   "cell_type": "code",
   "execution_count": 1,
   "metadata": {},
   "outputs": [],
   "source": [
    "import pandas as pd\n",
    "import numpy as np\n",
    "import tensorflow as tf\n",
    "import yfinance as yf"
   ]
  },
  {
   "cell_type": "code",
   "execution_count": 2,
   "metadata": {},
   "outputs": [
    {
     "name": "stdout",
     "output_type": "stream",
     "text": [
      "[*********************100%***********************]  1 of 1 completed\n",
      "(5106, 6)\n"
     ]
    }
   ],
   "source": [
    "# Load the stock price data\n",
    "data = yf.download(tickers='TSM',start='2003-01-01',end='2023-04-17')\n",
    "data_df = data['Close']\n",
    "print(data.shape)"
   ]
  },
  {
   "cell_type": "code",
   "execution_count": 3,
   "metadata": {},
   "outputs": [
    {
     "name": "stdout",
     "output_type": "stream",
     "text": [
      "(2000, 6) \n",
      " (3106, 6)\n"
     ]
    }
   ],
   "source": [
    "# Split the data into training and testing sets\n",
    "train_data = data[:2000]\n",
    "test_data = data[2000:]\n",
    "\n",
    "print(train_data.shape,'\\n',test_data.shape)"
   ]
  },
  {
   "cell_type": "code",
   "execution_count": 4,
   "metadata": {},
   "outputs": [
    {
     "name": "stdout",
     "output_type": "stream",
     "text": [
      "(1970, 30) (1970,)\n",
      "\n",
      "\n",
      "(3076, 30) (3076,)\n"
     ]
    }
   ],
   "source": [
    "# Define the input and output sequences\n",
    "def create_sequences(data, sequence_length):\n",
    "    inputs = []\n",
    "    outputs = []\n",
    "    for i in range(len(data) - sequence_length):\n",
    "        inputs.append(data[i:i+sequence_length])\n",
    "        outputs.append(data[i+sequence_length])\n",
    "    return np.array(inputs), np.array(outputs)\n",
    "\n",
    "sequence_length = 30\n",
    "x_train, y_train = create_sequences(train_data['Close'], sequence_length)\n",
    "x_test, y_test = create_sequences(test_data['Close'], sequence_length)\n",
    "print(x_train.shape, y_train.shape)\n",
    "print('\\n')\n",
    "print(x_test.shape, y_test.shape)\n",
    "\n"
   ]
  },
  {
   "cell_type": "code",
   "execution_count": 5,
   "metadata": {},
   "outputs": [
    {
     "data": {
      "text/plain": [
       "array([[89.02999878, 89.79000092, 89.58000183, 88.84999847, 90.83000183,\n",
       "        88.87999725, 87.25      , 87.73999786, 89.29000092, 86.69999695,\n",
       "        89.30000305, 89.47000122, 90.04000092, 92.5       , 92.62000275,\n",
       "        94.58999634, 92.79000092, 90.66000366, 90.80999756, 92.76000214,\n",
       "        92.47000122, 93.01999664, 92.83999634, 92.16999817, 90.19999695,\n",
       "        90.23999786, 89.01999664, 89.23999786, 86.87000275, 87.05000305]])"
      ]
     },
     "execution_count": 5,
     "metadata": {},
     "output_type": "execute_result"
    }
   ],
   "source": [
    "x_test[3075:]"
   ]
  },
  {
   "cell_type": "code",
   "execution_count": 6,
   "metadata": {},
   "outputs": [],
   "source": [
    "# Define the BRT architecture\n",
    "class BRT(tf.keras.Model):\n",
    "    def __init__(self, num_blocks, block_size, num_heads, d_model, dff, dropout_rate):\n",
    "        super(BRT, self).__init__()\n",
    "        self.num_blocks = num_blocks\n",
    "        self.block_size = block_size\n",
    "        self.d_model = d_model\n",
    "        \n",
    "        # Define the transformer blocks\n",
    "        self.transformer_blocks = []\n",
    "        for i in range(num_blocks):\n",
    "            self.transformer_blocks.append(tf.keras.layers.MultiHeadAttention(num_heads=num_heads, key_dim=d_model))\n",
    "            self.transformer_blocks.append(tf.keras.layers.Dense(units=d_model, activation='relu'))\n",
    "            self.transformer_blocks.append(tf.keras.layers.Dropout(rate=dropout_rate))\n",
    "            \n",
    "        # Define the recurrent layer\n",
    "        self.recurrent_layer = tf.keras.layers.LSTM(units=d_model)\n",
    "        \n",
    "    def call(self, inputs,**kwargs):\n",
    "        # Split the input sequence into blocks\n",
    "        inputs = tf.reshape(inputs, [-1, self.block_size, self.d_model])\n",
    "        \n",
    "        # Apply the transformer blocks to each block\n",
    "        for transformer_block in self.transformer_blocks:\n",
    "            inputs = transformer_block(inputs)\n",
    "        \n",
    "        # Apply the recurrent layer to the block outputs\n",
    "        outputs = self.recurrent_layer(inputs)\n",
    "        \n",
    "        return outputs\n"
   ]
  },
  {
   "cell_type": "code",
   "execution_count": 7,
   "metadata": {},
   "outputs": [
    {
     "name": "stdout",
     "output_type": "stream",
     "text": [
      "Epoch 1/10\n"
     ]
    },
    {
     "ename": "TypeError",
     "evalue": "in user code:\n\n    File \"c:\\Users\\johnn\\anaconda3\\envs\\tf_2.3_py_3.7\\lib\\site-packages\\keras\\engine\\training.py\", line 1160, in train_function  *\n        return step_function(self, iterator)\n    File \"c:\\Users\\johnn\\anaconda3\\envs\\tf_2.3_py_3.7\\lib\\site-packages\\keras\\engine\\training.py\", line 1146, in step_function  **\n        outputs = model.distribute_strategy.run(run_step, args=(data,))\n    File \"c:\\Users\\johnn\\anaconda3\\envs\\tf_2.3_py_3.7\\lib\\site-packages\\keras\\engine\\training.py\", line 1135, in run_step  **\n        outputs = model.train_step(data)\n    File \"c:\\Users\\johnn\\anaconda3\\envs\\tf_2.3_py_3.7\\lib\\site-packages\\keras\\engine\\training.py\", line 993, in train_step\n        y_pred = self(x, training=True)\n    File \"c:\\Users\\johnn\\anaconda3\\envs\\tf_2.3_py_3.7\\lib\\site-packages\\keras\\utils\\traceback_utils.py\", line 70, in error_handler\n        raise e.with_traceback(filtered_tb) from None\n    File \"C:\\Users\\johnn\\AppData\\Local\\Temp\\__autograph_generated_filem29z04b4.py\", line 24, in tf__call\n        ag__.for_stmt(ag__.ld(self).transformer_blocks, None, loop_body, get_state, set_state, ('inputs',), {'iterate_names': 'transformer_block'})\n    File \"C:\\Users\\johnn\\AppData\\Local\\Temp\\__autograph_generated_filem29z04b4.py\", line 22, in loop_body\n        inputs = ag__.converted_call(ag__.ld(transformer_block), (ag__.ld(inputs),), None, fscope)\n\n    TypeError: Exception encountered when calling layer \"brt\" \"                 f\"(type BRT).\n    \n    in user code:\n    \n        File \"C:\\Users\\johnn\\AppData\\Local\\Temp\\ipykernel_9656\\3119141051.py\", line 25, in call  *\n            inputs = transformer_block(inputs)\n        File \"c:\\Users\\johnn\\anaconda3\\envs\\tf_2.3_py_3.7\\lib\\site-packages\\keras\\utils\\traceback_utils.py\", line 70, in error_handler  **\n            raise e.with_traceback(filtered_tb) from None\n        File \"c:\\Users\\johnn\\anaconda3\\envs\\tf_2.3_py_3.7\\lib\\site-packages\\keras\\utils\\traceback_utils.py\", line 96, in error_handler\n            return fn(*args, **kwargs)\n    \n        TypeError: call() missing 1 required positional argument: 'value'\n    \n    \n    Call arguments received by layer \"brt\" \"                 f\"(type BRT):\n      • inputs=tf.Tensor(shape=(None, 30), dtype=float32)\n      • kwargs={'training': 'True'}\n",
     "output_type": "error",
     "traceback": [
      "\u001b[1;31m---------------------------------------------------------------------------\u001b[0m",
      "\u001b[1;31mTypeError\u001b[0m                                 Traceback (most recent call last)",
      "Cell \u001b[1;32mIn[7], line 15\u001b[0m\n\u001b[0;32m     12\u001b[0m brt\u001b[39m.\u001b[39mcompile(optimizer\u001b[39m=\u001b[39m\u001b[39m'\u001b[39m\u001b[39madam\u001b[39m\u001b[39m'\u001b[39m, loss\u001b[39m=\u001b[39m\u001b[39m'\u001b[39m\u001b[39mmse\u001b[39m\u001b[39m'\u001b[39m)\n\u001b[0;32m     14\u001b[0m \u001b[39m# Train the BRT\u001b[39;00m\n\u001b[1;32m---> 15\u001b[0m brt\u001b[39m.\u001b[39;49mfit(x_train, y_train, epochs\u001b[39m=\u001b[39;49m\u001b[39m10\u001b[39;49m, batch_size\u001b[39m=\u001b[39;49m\u001b[39m32\u001b[39;49m)\n\u001b[0;32m     17\u001b[0m \u001b[39m# Evaluate the BRT on the test data\u001b[39;00m\n\u001b[0;32m     18\u001b[0m test_loss \u001b[39m=\u001b[39m brt\u001b[39m.\u001b[39mevaluate(x_test, y_test)\n",
      "File \u001b[1;32mc:\\Users\\johnn\\anaconda3\\envs\\tf_2.3_py_3.7\\lib\\site-packages\\keras\\utils\\traceback_utils.py:70\u001b[0m, in \u001b[0;36mfilter_traceback.<locals>.error_handler\u001b[1;34m(*args, **kwargs)\u001b[0m\n\u001b[0;32m     67\u001b[0m     filtered_tb \u001b[39m=\u001b[39m _process_traceback_frames(e\u001b[39m.\u001b[39m__traceback__)\n\u001b[0;32m     68\u001b[0m     \u001b[39m# To get the full stack trace, call:\u001b[39;00m\n\u001b[0;32m     69\u001b[0m     \u001b[39m# `tf.debugging.disable_traceback_filtering()`\u001b[39;00m\n\u001b[1;32m---> 70\u001b[0m     \u001b[39mraise\u001b[39;00m e\u001b[39m.\u001b[39mwith_traceback(filtered_tb) \u001b[39mfrom\u001b[39;00m \u001b[39mNone\u001b[39m\n\u001b[0;32m     71\u001b[0m \u001b[39mfinally\u001b[39;00m:\n\u001b[0;32m     72\u001b[0m     \u001b[39mdel\u001b[39;00m filtered_tb\n",
      "File \u001b[1;32m~\\AppData\\Local\\Temp\\__autograph_generated_filef54e1dx3.py:15\u001b[0m, in \u001b[0;36mouter_factory.<locals>.inner_factory.<locals>.tf__train_function\u001b[1;34m(iterator)\u001b[0m\n\u001b[0;32m     13\u001b[0m \u001b[39mtry\u001b[39;00m:\n\u001b[0;32m     14\u001b[0m     do_return \u001b[39m=\u001b[39m \u001b[39mTrue\u001b[39;00m\n\u001b[1;32m---> 15\u001b[0m     retval_ \u001b[39m=\u001b[39m ag__\u001b[39m.\u001b[39mconverted_call(ag__\u001b[39m.\u001b[39mld(step_function), (ag__\u001b[39m.\u001b[39mld(\u001b[39mself\u001b[39m), ag__\u001b[39m.\u001b[39mld(iterator)), \u001b[39mNone\u001b[39;00m, fscope)\n\u001b[0;32m     16\u001b[0m \u001b[39mexcept\u001b[39;00m:\n\u001b[0;32m     17\u001b[0m     do_return \u001b[39m=\u001b[39m \u001b[39mFalse\u001b[39;00m\n",
      "File \u001b[1;32m~\\AppData\\Local\\Temp\\__autograph_generated_filem29z04b4.py:24\u001b[0m, in \u001b[0;36mouter_factory.<locals>.inner_factory.<locals>.tf__call\u001b[1;34m(self, inputs, **kwargs)\u001b[0m\n\u001b[0;32m     22\u001b[0m     inputs \u001b[39m=\u001b[39m ag__\u001b[39m.\u001b[39mconverted_call(ag__\u001b[39m.\u001b[39mld(transformer_block), (ag__\u001b[39m.\u001b[39mld(inputs),), \u001b[39mNone\u001b[39;00m, fscope)\n\u001b[0;32m     23\u001b[0m transformer_block \u001b[39m=\u001b[39m ag__\u001b[39m.\u001b[39mUndefined(\u001b[39m'\u001b[39m\u001b[39mtransformer_block\u001b[39m\u001b[39m'\u001b[39m)\n\u001b[1;32m---> 24\u001b[0m ag__\u001b[39m.\u001b[39mfor_stmt(ag__\u001b[39m.\u001b[39mld(\u001b[39mself\u001b[39m)\u001b[39m.\u001b[39mtransformer_blocks, \u001b[39mNone\u001b[39;00m, loop_body, get_state, set_state, (\u001b[39m'\u001b[39m\u001b[39minputs\u001b[39m\u001b[39m'\u001b[39m,), {\u001b[39m'\u001b[39m\u001b[39miterate_names\u001b[39m\u001b[39m'\u001b[39m: \u001b[39m'\u001b[39m\u001b[39mtransformer_block\u001b[39m\u001b[39m'\u001b[39m})\n\u001b[0;32m     25\u001b[0m outputs \u001b[39m=\u001b[39m ag__\u001b[39m.\u001b[39mconverted_call(ag__\u001b[39m.\u001b[39mld(\u001b[39mself\u001b[39m)\u001b[39m.\u001b[39mrecurrent_layer, (ag__\u001b[39m.\u001b[39mld(inputs),), \u001b[39mNone\u001b[39;00m, fscope)\n\u001b[0;32m     26\u001b[0m \u001b[39mtry\u001b[39;00m:\n",
      "File \u001b[1;32m~\\AppData\\Local\\Temp\\__autograph_generated_filem29z04b4.py:22\u001b[0m, in \u001b[0;36mouter_factory.<locals>.inner_factory.<locals>.tf__call.<locals>.loop_body\u001b[1;34m(itr)\u001b[0m\n\u001b[0;32m     20\u001b[0m \u001b[39mnonlocal\u001b[39;00m inputs\n\u001b[0;32m     21\u001b[0m transformer_block \u001b[39m=\u001b[39m itr\n\u001b[1;32m---> 22\u001b[0m inputs \u001b[39m=\u001b[39m ag__\u001b[39m.\u001b[39;49mconverted_call(ag__\u001b[39m.\u001b[39;49mld(transformer_block), (ag__\u001b[39m.\u001b[39;49mld(inputs),), \u001b[39mNone\u001b[39;49;00m, fscope)\n",
      "\u001b[1;31mTypeError\u001b[0m: in user code:\n\n    File \"c:\\Users\\johnn\\anaconda3\\envs\\tf_2.3_py_3.7\\lib\\site-packages\\keras\\engine\\training.py\", line 1160, in train_function  *\n        return step_function(self, iterator)\n    File \"c:\\Users\\johnn\\anaconda3\\envs\\tf_2.3_py_3.7\\lib\\site-packages\\keras\\engine\\training.py\", line 1146, in step_function  **\n        outputs = model.distribute_strategy.run(run_step, args=(data,))\n    File \"c:\\Users\\johnn\\anaconda3\\envs\\tf_2.3_py_3.7\\lib\\site-packages\\keras\\engine\\training.py\", line 1135, in run_step  **\n        outputs = model.train_step(data)\n    File \"c:\\Users\\johnn\\anaconda3\\envs\\tf_2.3_py_3.7\\lib\\site-packages\\keras\\engine\\training.py\", line 993, in train_step\n        y_pred = self(x, training=True)\n    File \"c:\\Users\\johnn\\anaconda3\\envs\\tf_2.3_py_3.7\\lib\\site-packages\\keras\\utils\\traceback_utils.py\", line 70, in error_handler\n        raise e.with_traceback(filtered_tb) from None\n    File \"C:\\Users\\johnn\\AppData\\Local\\Temp\\__autograph_generated_filem29z04b4.py\", line 24, in tf__call\n        ag__.for_stmt(ag__.ld(self).transformer_blocks, None, loop_body, get_state, set_state, ('inputs',), {'iterate_names': 'transformer_block'})\n    File \"C:\\Users\\johnn\\AppData\\Local\\Temp\\__autograph_generated_filem29z04b4.py\", line 22, in loop_body\n        inputs = ag__.converted_call(ag__.ld(transformer_block), (ag__.ld(inputs),), None, fscope)\n\n    TypeError: Exception encountered when calling layer \"brt\" \"                 f\"(type BRT).\n    \n    in user code:\n    \n        File \"C:\\Users\\johnn\\AppData\\Local\\Temp\\ipykernel_9656\\3119141051.py\", line 25, in call  *\n            inputs = transformer_block(inputs)\n        File \"c:\\Users\\johnn\\anaconda3\\envs\\tf_2.3_py_3.7\\lib\\site-packages\\keras\\utils\\traceback_utils.py\", line 70, in error_handler  **\n            raise e.with_traceback(filtered_tb) from None\n        File \"c:\\Users\\johnn\\anaconda3\\envs\\tf_2.3_py_3.7\\lib\\site-packages\\keras\\utils\\traceback_utils.py\", line 96, in error_handler\n            return fn(*args, **kwargs)\n    \n        TypeError: call() missing 1 required positional argument: 'value'\n    \n    \n    Call arguments received by layer \"brt\" \"                 f\"(type BRT):\n      • inputs=tf.Tensor(shape=(None, 30), dtype=float32)\n      • kwargs={'training': 'True'}\n"
     ]
    }
   ],
   "source": [
    "# Instantiate the BRT\n",
    "num_blocks = 4\n",
    "block_size = sequence_length\n",
    "num_heads = 8\n",
    "d_model = 128\n",
    "dff = 512\n",
    "dropout_rate = 0.1\n",
    "\n",
    "brt = BRT(num_blocks, block_size, num_heads, d_model, dff, dropout_rate)\n",
    "\n",
    "# Compile the BRT\n",
    "brt.compile(optimizer='adam', loss='mse')\n",
    "\n",
    "# Train the BRT\n",
    "brt.fit(x_train, y_train, epochs=10, batch_size=32)\n",
    "\n",
    "# Evaluate the BRT on the test data\n",
    "test_loss = brt.evaluate(x_test, y_test)\n",
    "\n",
    "# Make predictions using the BRT\n",
    "predictions = brt.predict(x_test)\n",
    "\n",
    "# Plot the predictions and actual values\n",
    "import matplotlib.pyplot as plt\n",
    "\n",
    "plt.plot(predictions, label='Predictions')\n",
    "plt.plot(y_test, label='Actual Values')\n",
    "plt.legend()\n",
    "plt.show()\n"
   ]
  },
  {
   "cell_type": "code",
   "execution_count": null,
   "metadata": {},
   "outputs": [
    {
     "ename": "Exception",
     "evalue": "Not valid dataset name and no similar found! Try: data() to see available.",
     "output_type": "error",
     "traceback": [
      "\u001b[1;31m---------------------------------------------------------------------------\u001b[0m",
      "\u001b[1;31mKeyError\u001b[0m                                  Traceback (most recent call last)",
      "File \u001b[1;32mc:\\Users\\johnn\\anaconda3\\envs\\tf_2.3_py_3.7\\lib\\site-packages\\pydataset\\__init__.py:34\u001b[0m, in \u001b[0;36mdata\u001b[1;34m(item, show_doc)\u001b[0m\n\u001b[0;32m     32\u001b[0m     \u001b[39mreturn\u001b[39;00m\n\u001b[1;32m---> 34\u001b[0m df \u001b[39m=\u001b[39m __read_csv(item)\n\u001b[0;32m     35\u001b[0m \u001b[39mreturn\u001b[39;00m df\n",
      "File \u001b[1;32mc:\\Users\\johnn\\anaconda3\\envs\\tf_2.3_py_3.7\\lib\\site-packages\\pydataset\\datasets_handler.py:47\u001b[0m, in \u001b[0;36m__read_csv\u001b[1;34m(item)\u001b[0m\n\u001b[0;32m     46\u001b[0m \u001b[39mdef\u001b[39;00m \u001b[39m__read_csv\u001b[39m(item):\n\u001b[1;32m---> 47\u001b[0m     path \u001b[39m=\u001b[39m __get_csv_path(item)\n\u001b[0;32m     48\u001b[0m     df \u001b[39m=\u001b[39m pd\u001b[39m.\u001b[39mread_csv(path, index_col\u001b[39m=\u001b[39m\u001b[39m0\u001b[39m)\n",
      "File \u001b[1;32mc:\\Users\\johnn\\anaconda3\\envs\\tf_2.3_py_3.7\\lib\\site-packages\\pydataset\\datasets_handler.py:43\u001b[0m, in \u001b[0;36m__get_csv_path\u001b[1;34m(item)\u001b[0m\n\u001b[0;32m     42\u001b[0m \u001b[39m\"\"\"return the full path of the item's csv file\"\"\"\u001b[39;00m\n\u001b[1;32m---> 43\u001b[0m \u001b[39mreturn\u001b[39;00m items[item]\n",
      "\u001b[1;31mKeyError\u001b[0m: 'geepack'",
      "\nDuring handling of the above exception, another exception occurred:\n",
      "\u001b[1;31mException\u001b[0m                                 Traceback (most recent call last)",
      "Cell \u001b[1;32mIn[1], line 6\u001b[0m\n\u001b[0;32m      3\u001b[0m \u001b[39mfrom\u001b[39;00m \u001b[39mstatsmodels\u001b[39;00m\u001b[39m.\u001b[39;00m\u001b[39mgenmod\u001b[39;00m \u001b[39mimport\u001b[39;00m families\n\u001b[0;32m      5\u001b[0m \u001b[39m# Load the geepack dataset\u001b[39;00m\n\u001b[1;32m----> 6\u001b[0m data_geepack \u001b[39m=\u001b[39m data(\u001b[39m\"\u001b[39;49m\u001b[39mgeepack\u001b[39;49m\u001b[39m\"\u001b[39;49m)\n\u001b[0;32m      8\u001b[0m \u001b[39m# Create the GEE model\u001b[39;00m\n\u001b[0;32m      9\u001b[0m model \u001b[39m=\u001b[39m sm\u001b[39m.\u001b[39mGEE\u001b[39m.\u001b[39mfrom_formula(\u001b[39m\"\u001b[39m\u001b[39my ~ age + trt + base\u001b[39m\u001b[39m\"\u001b[39m, groups\u001b[39m=\u001b[39m\u001b[39m\"\u001b[39m\u001b[39msubject\u001b[39m\u001b[39m\"\u001b[39m, data\u001b[39m=\u001b[39mdata_geepack, family\u001b[39m=\u001b[39mfamilies\u001b[39m.\u001b[39mPoisson())\n",
      "File \u001b[1;32mc:\\Users\\johnn\\anaconda3\\envs\\tf_2.3_py_3.7\\lib\\site-packages\\pydataset\\__init__.py:37\u001b[0m, in \u001b[0;36mdata\u001b[1;34m(item, show_doc)\u001b[0m\n\u001b[0;32m     35\u001b[0m         \u001b[39mreturn\u001b[39;00m df\n\u001b[0;32m     36\u001b[0m     \u001b[39mexcept\u001b[39;00m \u001b[39mKeyError\u001b[39;00m:\n\u001b[1;32m---> 37\u001b[0m         find_similar(item)\n\u001b[0;32m     38\u001b[0m \u001b[39melse\u001b[39;00m:\n\u001b[0;32m     39\u001b[0m     \u001b[39mreturn\u001b[39;00m __datasets_desc()\n",
      "File \u001b[1;32mc:\\Users\\johnn\\anaconda3\\envs\\tf_2.3_py_3.7\\lib\\site-packages\\pydataset\\support.py:48\u001b[0m, in \u001b[0;36mfind_similar\u001b[1;34m(query)\u001b[0m\n\u001b[0;32m     44\u001b[0m     \u001b[39mprint\u001b[39m(\u001b[39m'\u001b[39m\u001b[39m, \u001b[39m\u001b[39m'\u001b[39m\u001b[39m.\u001b[39mjoin(t \u001b[39mfor\u001b[39;00m t \u001b[39min\u001b[39;00m top_words))\n\u001b[0;32m     45\u001b[0m     \u001b[39m# print(', '.join('{:.1f}'.format(r*100) for r in ratios))\u001b[39;00m\n\u001b[0;32m     46\u001b[0m \n\u001b[0;32m     47\u001b[0m \u001b[39melse\u001b[39;00m:\n\u001b[1;32m---> 48\u001b[0m     \u001b[39mraise\u001b[39;00m \u001b[39mException\u001b[39;00m(ERROR)\n",
      "\u001b[1;31mException\u001b[0m: Not valid dataset name and no similar found! Try: data() to see available."
     ]
    }
   ],
   "source": [
    "from pydataset import data\n",
    "import statsmodels.api as sm\n",
    "from statsmodels.genmod import families\n",
    "\n",
    "# Load the geepack dataset\n",
    "data_geepack = data(\"geepack\")\n",
    "\n",
    "# Create the GEE model\n",
    "model = sm.GEE.from_formula(\"y ~ age + trt + base\", groups=\"subject\", data=data_geepack, family=families.Poisson())\n",
    "\n",
    "# Fit the GEE model\n",
    "result = model.fit()\n",
    "\n",
    "# Print the results\n",
    "print(result.summary())\n"
   ]
  },
  {
   "cell_type": "code",
   "execution_count": null,
   "metadata": {},
   "outputs": [
    {
     "name": "stdout",
     "output_type": "stream",
     "text": [
      "Collecting statsmodels\n",
      "  Downloading statsmodels-0.13.5-cp39-cp39-win_amd64.whl (9.2 MB)\n",
      "     ---------------------------------------- 9.2/9.2 MB 1.1 MB/s eta 0:00:00\n",
      "Requirement already satisfied: packaging>=21.3 in c:\\users\\johnn\\anaconda3\\envs\\tf_2.3_py_3.7\\lib\\site-packages (from statsmodels) (22.0)\n",
      "Requirement already satisfied: scipy>=1.3 in c:\\users\\johnn\\anaconda3\\envs\\tf_2.3_py_3.7\\lib\\site-packages (from statsmodels) (1.10.0)\n",
      "Requirement already satisfied: pandas>=0.25 in c:\\users\\johnn\\anaconda3\\envs\\tf_2.3_py_3.7\\lib\\site-packages (from statsmodels) (1.5.3)\n",
      "Requirement already satisfied: numpy>=1.17 in c:\\users\\johnn\\anaconda3\\envs\\tf_2.3_py_3.7\\lib\\site-packages (from statsmodels) (1.23.5)\n",
      "Collecting patsy>=0.5.2\n",
      "  Downloading patsy-0.5.3-py2.py3-none-any.whl (233 kB)\n",
      "     ------------------------------------- 233.8/233.8 kB 14.0 MB/s eta 0:00:00\n",
      "Requirement already satisfied: pytz>=2020.1 in c:\\users\\johnn\\anaconda3\\envs\\tf_2.3_py_3.7\\lib\\site-packages (from pandas>=0.25->statsmodels) (2022.7.1)\n",
      "Requirement already satisfied: python-dateutil>=2.8.1 in c:\\users\\johnn\\anaconda3\\envs\\tf_2.3_py_3.7\\lib\\site-packages (from pandas>=0.25->statsmodels) (2.8.2)\n",
      "Requirement already satisfied: six in c:\\users\\johnn\\anaconda3\\envs\\tf_2.3_py_3.7\\lib\\site-packages (from patsy>=0.5.2->statsmodels) (1.16.0)\n",
      "Installing collected packages: patsy, statsmodels\n",
      "Successfully installed patsy-0.5.3 statsmodels-0.13.5\n",
      "Note: you may need to restart the kernel to use updated packages.\n"
     ]
    }
   ],
   "source": [
    "pip install statsmodels"
   ]
  },
  {
   "cell_type": "code",
   "execution_count": null,
   "metadata": {},
   "outputs": [
    {
     "name": "stdout",
     "output_type": "stream",
     "text": [
      "Collecting pydataset\n",
      "  Downloading pydataset-0.2.0.tar.gz (15.9 MB)\n",
      "     ---------------------------------------- 15.9/15.9 MB 1.9 MB/s eta 0:00:00\n",
      "  Preparing metadata (setup.py): started\n",
      "  Preparing metadata (setup.py): finished with status 'done'\n",
      "Requirement already satisfied: pandas in c:\\users\\johnn\\anaconda3\\envs\\tf_2.3_py_3.7\\lib\\site-packages (from pydataset) (1.5.3)\n",
      "Requirement already satisfied: python-dateutil>=2.8.1 in c:\\users\\johnn\\anaconda3\\envs\\tf_2.3_py_3.7\\lib\\site-packages (from pandas->pydataset) (2.8.2)\n",
      "Requirement already satisfied: pytz>=2020.1 in c:\\users\\johnn\\anaconda3\\envs\\tf_2.3_py_3.7\\lib\\site-packages (from pandas->pydataset) (2022.7.1)\n",
      "Requirement already satisfied: numpy>=1.20.3 in c:\\users\\johnn\\anaconda3\\envs\\tf_2.3_py_3.7\\lib\\site-packages (from pandas->pydataset) (1.23.5)\n",
      "Requirement already satisfied: six>=1.5 in c:\\users\\johnn\\anaconda3\\envs\\tf_2.3_py_3.7\\lib\\site-packages (from python-dateutil>=2.8.1->pandas->pydataset) (1.16.0)\n",
      "Building wheels for collected packages: pydataset\n",
      "  Building wheel for pydataset (setup.py): started\n",
      "  Building wheel for pydataset (setup.py): finished with status 'done'\n",
      "  Created wheel for pydataset: filename=pydataset-0.2.0-py3-none-any.whl size=15939425 sha256=3893e7e57dfeadd374be0709f4873bd3953f7346ec1cd4d66fc516b1d3364a88\n",
      "  Stored in directory: c:\\users\\johnn\\appdata\\local\\pip\\cache\\wheels\\8f\\0a\\01\\a4d4b557a0be677dd1d1c5bc5374047254a0f322790e02a3af\n",
      "Successfully built pydataset\n",
      "Installing collected packages: pydataset\n",
      "Successfully installed pydataset-0.2.0\n",
      "Note: you may need to restart the kernel to use updated packages.\n"
     ]
    }
   ],
   "source": [
    "pip install pydataset"
   ]
  },
  {
   "cell_type": "code",
   "execution_count": null,
   "metadata": {},
   "outputs": [
    {
     "name": "stdout",
     "output_type": "stream",
     "text": [
      "Note: you may need to restart the kernel to use updated packages.\n"
     ]
    },
    {
     "name": "stderr",
     "output_type": "stream",
     "text": [
      "ERROR: Could not find a version that satisfies the requirement geepack (from versions: none)\n",
      "ERROR: No matching distribution found for geepack\n"
     ]
    }
   ],
   "source": [
    "pip install geepack"
   ]
  },
  {
   "cell_type": "code",
   "execution_count": null,
   "metadata": {},
   "outputs": [],
   "source": []
  }
 ],
 "metadata": {
  "kernelspec": {
   "display_name": "tf_2.3_py_3.7",
   "language": "python",
   "name": "python3"
  },
  "language_info": {
   "codemirror_mode": {
    "name": "ipython",
    "version": 3
   },
   "file_extension": ".py",
   "mimetype": "text/x-python",
   "name": "python",
   "nbconvert_exporter": "python",
   "pygments_lexer": "ipython3",
   "version": "3.9.16"
  },
  "orig_nbformat": 4
 },
 "nbformat": 4,
 "nbformat_minor": 2
}
